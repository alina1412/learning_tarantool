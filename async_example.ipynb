{
 "cells": [
  {
   "cell_type": "code",
   "execution_count": 2,
   "metadata": {},
   "outputs": [],
   "source": [
    "import uuid\n",
    "import asyncio\n",
    "import asynctnt\n"
   ]
  },
  {
   "cell_type": "code",
   "execution_count": 3,
   "metadata": {},
   "outputs": [],
   "source": [
    "async def get_conn():\n",
    "    conn = asynctnt.Connection(host=\"localhost\", port=3302, username='admin', password='pass')\n",
    "    await conn.connect()\n",
    "    return conn"
   ]
  },
  {
   "cell_type": "code",
   "execution_count": 5,
   "metadata": {},
   "outputs": [
    {
     "data": {
      "text/plain": [
       "'box.space.users3:drop()'"
      ]
     },
     "execution_count": 5,
     "metadata": {},
     "output_type": "execute_result"
    }
   ],
   "source": [
    "space_name = 'users3'\n",
    "'''box.space.users3:drop()'''"
   ]
  },
  {
   "cell_type": "code",
   "execution_count": 7,
   "metadata": {},
   "outputs": [
    {
     "name": "stdout",
     "output_type": "stream",
     "text": [
      "tuple: <TarantoolTuple id=1 band_name='ABBA' year=17>\n"
     ]
    }
   ],
   "source": [
    "conn = await get_conn()\n",
    "data = await conn.select('tester2', [])\n",
    "tup = data[0]\n",
    "print('tuple:', tup)"
   ]
  },
  {
   "cell_type": "code",
   "execution_count": 8,
   "metadata": {},
   "outputs": [
    {
     "name": "stdout",
     "output_type": "stream",
     "text": [
      "<Response sync=4 rowcount=1 data=[<TarantoolTuple A=1 B=2>]>\n"
     ]
    }
   ],
   "source": [
    "conn = await get_conn()\n",
    "data = await conn.execute(\"select 1 as a, 2 as b\")\n",
    "print(data)"
   ]
  },
  {
   "cell_type": "code",
   "execution_count": null,
   "metadata": {},
   "outputs": [],
   "source": []
  },
  {
   "cell_type": "code",
   "execution_count": 9,
   "metadata": {},
   "outputs": [],
   "source": [
    "async def do_sql(conn: asynctnt.Connection):\n",
    "    # in console\n",
    "    '''\n",
    "    box.execute([[ create table users (\n",
    "            id int primary key,\n",
    "            name text\n",
    "        )    ]])\n",
    "    '''\n",
    "    try:\n",
    "        await conn.execute(\"insert into users (id, name) values (?, ?);\", (1, 'James Bond'))\n",
    "    except asynctnt.exceptions.TarantoolDatabaseError as exc:\n",
    "        print(str(exc))\n",
    "        print()\n",
    "\n",
    "    data = await conn.execute('select * from users')\n",
    "    for row in data:\n",
    "        print(row)"
   ]
  },
  {
   "cell_type": "code",
   "execution_count": 68,
   "metadata": {},
   "outputs": [],
   "source": [
    "async def do_sql2(conn: asynctnt.Connection):\n",
    "        # in console\n",
    "    '''  \n",
    "    # -- Create a sequence --\n",
    "    box.schema.sequence.create('id_seq',{min=1, start=1, if_not_exists = true})\n",
    "    or\n",
    "    box.schema.sequence.create('id_',        { if_not_exists = true })\n",
    "    box.space.user2:create_index('primary', {\n",
    "        parts = { 'id' },\n",
    "        sequence = 'id_seq',\n",
    "        unique = true,\n",
    "        type = 'HASH',\n",
    "        if_not_exists = true\n",
    "    })\n",
    "\n",
    "    box.space.user2:insert{nil, 'pen', 123}\n",
    "    box.space.user2:select()\n",
    "    box.schema.space.create('users2')\n",
    "    box.execute([[CREATE TABLE users3 (column1 INT PRIMARY key, column2 VARCHAR(10));]])\n",
    "    box.execute([[CREATE TABLE users3 (id INT PRIMARY key, name text);]])\n",
    "\n",
    "    # -- Create an index that uses the sequence --\n",
    "    box.space.users2:create_index('primary',{ sequence = 'id_seq' })\n",
    "    '''\n",
    "    await conn.execute(\"insert into goods (name, code, row_ver) values (?, ?, ?);\", ('James Bond', 2, 1))\n",
    "    data = await conn.execute('select * from goods')\n",
    "    for row in data:\n",
    "        print(row)\n",
    "  "
   ]
  },
  {
   "cell_type": "code",
   "execution_count": 10,
   "metadata": {},
   "outputs": [],
   "source": [
    "async def do():\n",
    "    conn = await get_conn()\n",
    "    print(conn)\n",
    "    await do_sql(conn)\n",
    "    # await do_sql2(conn)\n",
    "    await conn.disconnect()\n",
    "    print(conn)"
   ]
  },
  {
   "cell_type": "code",
   "execution_count": 11,
   "metadata": {},
   "outputs": [
    {
     "name": "stdout",
     "output_type": "stream",
     "text": [
      "<asynctnt.Connection host=localhost port=3302 state=<ConnectionState.CONNECTED: 2>>\n",
      "Duplicate key exists in unique index 'pk_unnamed_USERS_1' in space 'USERS'\n",
      "\n",
      "<TarantoolTuple ID=1 NAME='James Bond'>\n",
      "<asynctnt.Connection host=localhost port=3302 state=<ConnectionState.DISCONNECTED: 5>>\n"
     ]
    }
   ],
   "source": [
    "# loop = asyncio.get_event_loop()\n",
    "# loop.create_task(do())\n",
    "# asyncio.run_coroutine_threadsafe(do(), loop)\n",
    "await do()"
   ]
  },
  {
   "cell_type": "code",
   "execution_count": 12,
   "metadata": {},
   "outputs": [
    {
     "name": "stdout",
     "output_type": "stream",
     "text": [
      "<Response sync=4 rowcount=0 data=[]>\n"
     ]
    }
   ],
   "source": [
    "conn = await get_conn()\n",
    "data = await conn.execute('select * from goods')\n",
    "print(data)\n",
    "await conn.disconnect()"
   ]
  },
  {
   "cell_type": "code",
   "execution_count": 13,
   "metadata": {},
   "outputs": [
    {
     "name": "stdout",
     "output_type": "stream",
     "text": [
      "<Response sync=6 rowcount=3 data=[<TarantoolTuple ID=1 NAME='James Bond'>, <TarantoolTuple ID=2 NAME='James Bond'>, <TarantoolTuple ID=3 NAME='James Bond'>]>\n"
     ]
    }
   ],
   "source": [
    "table_name = 'users5'\n",
    "'''in console\n",
    "box.execute([[CREATE TABLE users5 (id INTEGER PRIMARY KEY AUTOINCREMENT, name text);]])\n",
    "'''\n",
    "conn = await get_conn()\n",
    "await conn.execute(\"insert into users5 (name) values (?);\", ('James Bond',))\n",
    "\n",
    "data = await conn.execute(f'select * from {table_name}')\n",
    "print(data)\n",
    "await conn.disconnect()"
   ]
  },
  {
   "cell_type": "code",
   "execution_count": null,
   "metadata": {},
   "outputs": [],
   "source": [
    "# TODO (not checked)\n",
    "# box.schema.sequence.create('id_seq',{min=1, start=1, if_not_exists = true})\n",
    "# box.schema.space.create('user4', {\n",
    "#     format = {\n",
    "#         {name = 'id', type = 'unsigned' },\n",
    "#         {name = 'name', type = 'string' },\n",
    "#         {name = 'code', type = 'unsigned'},\n",
    "#     },\n",
    "#     if_not_exists = true\n",
    "# })\n",
    "\n",
    "# box.schema.sequence.create('user4_id',  { if_not_exists = true })\n",
    "# box.space.users4:create_index('primary',{ parts = { 'id' },\n",
    "#         sequence = 'user4_id',\n",
    "#         unique = true,\n",
    "#         type = 'HASH',\n",
    "#         if_not_exists = true})"
   ]
  },
  {
   "cell_type": "code",
   "execution_count": null,
   "metadata": {},
   "outputs": [],
   "source": [
    "# TODO (not checked)\n",
    "# box.schema.sequence.create('seq2',\n",
    "#     { if_not_exists = true })\n",
    "\n",
    "# box.space.goods:create_index('primary', {\n",
    "#     parts = { 'id' },\n",
    "#     sequence = 'seq2',\n",
    "#     unique = true,\n",
    "#     type = 'HASH',\n",
    "#     if_not_exists = true\n",
    "# })\n",
    "\n",
    "# box.execute([[CREATE TABLE goods (id INT PRIMARY key, name text, code int, row_ver int);]])"
   ]
  }
 ],
 "metadata": {
  "kernelspec": {
   "display_name": ".venv",
   "language": "python",
   "name": "python3"
  },
  "language_info": {
   "codemirror_mode": {
    "name": "ipython",
    "version": 3
   },
   "file_extension": ".py",
   "mimetype": "text/x-python",
   "name": "python",
   "nbconvert_exporter": "python",
   "pygments_lexer": "ipython3",
   "version": "3.11.6"
  }
 },
 "nbformat": 4,
 "nbformat_minor": 2
}
