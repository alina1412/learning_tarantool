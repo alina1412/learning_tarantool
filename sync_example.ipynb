{
 "cells": [
  {
   "cell_type": "code",
   "execution_count": 43,
   "metadata": {},
   "outputs": [],
   "source": [
    "import tarantool\n",
    "PORT = 3303 # check running container\n",
    "connection = tarantool.connect(host=\"localhost\", port=PORT, user='admin', password='pass')\n"
   ]
  },
  {
   "cell_type": "code",
   "execution_count": 21,
   "metadata": {},
   "outputs": [],
   "source": [
    "'''Команды в консоли тарантула (запущенного в докере)\n",
    "box.schema.space.create('tester2')\n",
    "\n",
    "box.space.tester2:format({\n",
    "    { name = 'id', type = 'unsigned' },\n",
    "    { name = 'band_name', type = 'string' },\n",
    "    { name = 'year', type = 'unsigned' }\n",
    "})\n",
    "\n",
    "-- Create a primary index --\n",
    "box.space.tester2:create_index('primary', { parts = { 'id' } })\n",
    "\n",
    "box.space.tester2:create_index('name', { parts = { 'band_name' } })\n",
    "'''\n",
    "space_name = 'tester2'"
   ]
  },
  {
   "cell_type": "code",
   "execution_count": 2,
   "metadata": {},
   "outputs": [
    {
     "data": {
      "text/plain": [
       "- [2, 'Adams']\n",
       "- [3, 'Adams']"
      ]
     },
     "execution_count": 2,
     "metadata": {},
     "output_type": "execute_result"
    }
   ],
   "source": [
    "conn_space = connection.space(space_name)\n",
    "res = conn_space.select()\n",
    "res"
   ]
  },
  {
   "cell_type": "code",
   "execution_count": 15,
   "metadata": {},
   "outputs": [
    {
     "data": {
      "text/plain": []
     },
     "execution_count": 15,
     "metadata": {},
     "output_type": "execute_result"
    }
   ],
   "source": [
    "res = connection.select(space_name, 0)\n",
    "res"
   ]
  },
  {
   "cell_type": "code",
   "execution_count": 14,
   "metadata": {},
   "outputs": [
    {
     "data": {
      "text/plain": [
       "- [1, 'ABBA', 1972]"
      ]
     },
     "execution_count": 14,
     "metadata": {},
     "output_type": "execute_result"
    }
   ],
   "source": [
    "conn_space.insert((1, 'ABBA', 1972))"
   ]
  },
  {
   "cell_type": "code",
   "execution_count": 13,
   "metadata": {},
   "outputs": [
    {
     "data": {
      "text/plain": [
       "<tarantool.space.Space at 0x75e8d9300910>"
      ]
     },
     "execution_count": 13,
     "metadata": {},
     "output_type": "execute_result"
    }
   ],
   "source": [
    "conn_space"
   ]
  },
  {
   "cell_type": "code",
   "execution_count": 24,
   "metadata": {},
   "outputs": [
    {
     "data": {
      "text/plain": [
       "- [1, 'ABBA', 1972]"
      ]
     },
     "execution_count": 24,
     "metadata": {},
     "output_type": "execute_result"
    }
   ],
   "source": [
    "res = conn_space.select('ABBA', index=1) # if index 1 already created\n",
    "res"
   ]
  },
  {
   "cell_type": "code",
   "execution_count": 23,
   "metadata": {},
   "outputs": [
    {
     "name": "stdout",
     "output_type": "stream",
     "text": [
      "- [1, 'ABBA', 1972]\n"
     ]
    }
   ],
   "source": [
    "def select_by_name(name='ABBA'):\n",
    "    res = conn_space.select(name, index='name')\n",
    "    return res\n",
    "\n",
    "print(select_by_name())"
   ]
  },
  {
   "cell_type": "code",
   "execution_count": 25,
   "metadata": {},
   "outputs": [
    {
     "data": {
      "text/plain": [
       "- [1, 'ABBA', 16]"
      ]
     },
     "execution_count": 25,
     "metadata": {},
     "output_type": "execute_result"
    }
   ],
   "source": [
    "conn_space.upsert((1, 'ABBA', 0), [('=', 2, 16)]) # 2 - index from 0\n",
    "res = select_by_name()\n",
    "res"
   ]
  },
  {
   "cell_type": "code",
   "execution_count": 26,
   "metadata": {},
   "outputs": [
    {
     "data": {
      "text/plain": [
       "- [1, 'ABBA', 17]"
      ]
     },
     "execution_count": 26,
     "metadata": {},
     "output_type": "execute_result"
    }
   ],
   "source": [
    "conn_space.update(1, [('=', 1, 'ABBA'), ('+', 2, 1)]) # updated 2 fields"
   ]
  },
  {
   "cell_type": "code",
   "execution_count": 27,
   "metadata": {},
   "outputs": [
    {
     "data": {
      "text/plain": [
       "- [4, 'New band', 2015]"
      ]
     },
     "execution_count": 27,
     "metadata": {},
     "output_type": "execute_result"
    }
   ],
   "source": [
    "# Теперь с помощью функции replace мы полностью заменим кортеж \n",
    "# с совпадающим первичным ключом. Если кортежа с указанным первичным ключом не существует, \n",
    "# то эта операция ни к чему не приведет.\n",
    "\n",
    "conn_space.replace((4, 'New band', 2015))\n",
    "res = select_by_name('New band')\n",
    "res\n"
   ]
  },
  {
   "cell_type": "code",
   "execution_count": 6,
   "metadata": {},
   "outputs": [
    {
     "data": {
      "text/plain": [
       "- [1, 'James Bond']\n",
       "- [2, 'James Bond']\n",
       "- [3, 'James Bond']"
      ]
     },
     "execution_count": 6,
     "metadata": {},
     "output_type": "execute_result"
    }
   ],
   "source": [
    "connection.execute('select * from customers')"
   ]
  },
  {
   "cell_type": "code",
   "execution_count": 8,
   "metadata": {},
   "outputs": [
    {
     "data": {
      "text/plain": [
       "- [2, 'Adams']\n",
       "- [3, 'Adams']"
      ]
     },
     "execution_count": 8,
     "metadata": {},
     "output_type": "execute_result"
    }
   ],
   "source": [
    "res = connection.space('customers').select()\n",
    "res"
   ]
  },
  {
   "cell_type": "code",
   "execution_count": 25,
   "metadata": {},
   "outputs": [
    {
     "data": {
      "text/plain": []
     },
     "execution_count": 25,
     "metadata": {},
     "output_type": "execute_result"
    }
   ],
   "source": [
    "res = connection.space('fff').select()\n",
    "res"
   ]
  },
  {
   "cell_type": "code",
   "execution_count": 32,
   "metadata": {},
   "outputs": [
    {
     "name": "stdout",
     "output_type": "stream",
     "text": [
      "- [1, 'My_Val1']\n",
      "- [2, 'My_Val1']\n",
      "- [3, 'My_Val1']\n",
      "- [4, 'My_Val1']\n",
      "- [5, 'My_Val1']\n"
     ]
    }
   ],
   "source": [
    "'''\n",
    "box.schema.space.create('tester3')\n",
    "box.space.tester3:create_index('primary')\n",
    "and\n",
    "box.execute([[CREATE TABLE tester3 (id INTEGER PRIMARY KEY AUTOINCREMENT, name text);]]) ----> it creates TESTER3 with capital letters, even when written with small\n",
    "'''\n",
    "# \n",
    "# connection.space('tester3').insert((1, 'ABBA', 1972))\n",
    "# res1 = connection.space('tester3').select()\n",
    "# print(res1)\n",
    "\n",
    "\n",
    "connection.execute('insert into tester8 (name) values (?);', (\"My_Val1\",))  # ---->-  it thinks name of the table is capital-letter TESTER8  even when written with small\n",
    "res2 = connection.execute('select * from tester8') # CAPITALL Letters\n",
    "print(\"None\" if not res2 else res2)\n"
   ]
  },
  {
   "cell_type": "code",
   "execution_count": null,
   "metadata": {},
   "outputs": [],
   "source": []
  },
  {
   "cell_type": "code",
   "execution_count": 51,
   "metadata": {},
   "outputs": [
    {
     "name": "stdout",
     "output_type": "stream",
     "text": [
      "- [UUID('92b72308-b94f-4c13-b895-401925f4623f'), 'My_Val1', 20]\n",
      "- [UUID('9fa96f35-e3d3-4cff-ac7f-0210813e5d71'), 'My_Val1', 20]\n",
      "- [UUID('b024b753-c8ca-4612-a03a-34e5d17a7fb6'), 'My_Val1', 20]\n",
      "- [UUID('e083f994-0a60-43d9-9e26-fe79100220bd'), 'My_Val1', 20]\n"
     ]
    }
   ],
   "source": [
    "'''for tarantool in docker version 3\n",
    "sudo docker exec -it t3 console\n",
    "sudo docker exec -it t4 console\n",
    "Команды в консоли тарантула (запущенного в докере)\n",
    "\n",
    "box.cfg {\n",
    "        memtx_memory = 1 * 1000 * 1024 * 1024,\n",
    "        listen = 3301,\n",
    "        checkpoint_count  = 3,\n",
    "        checkpoint_interval = 3600,\n",
    "        read_only  = false \n",
    "}\n",
    "\n",
    "\n",
    "box.schema.space.create('APP')\n",
    "\n",
    "box.space.APP:format({\n",
    "    { name = 'ID', type = 'uuid' },\n",
    "    { name = 'BAND_NAME', type = 'string' },\n",
    "    { name = 'YEAR', type = 'unsigned' }\n",
    "})\n",
    "\n",
    "box.space.APP:create_index(\"primary\", {parts={{field = 1, type = 'uuid'}}})\n",
    "\n",
    "box.space.tester2:create_index('name', { parts = { 'band_name' } })\n",
    "'''\n",
    "import uuid\n",
    "\n",
    "\n",
    "connection.execute('insert into APP (id, band_name, year) values (?, ?, ?);', (uuid.uuid4(), \"My_Val1\", 20))  # ---->-  it thinks name of the table is capital-letter TESTER8  even when written with small\n",
    "res2 = connection.execute('select * from SEQSCAN  APP limit 100') # CAPITALL Letters\n",
    "print(\"None\" if not res2 else res2)"
   ]
  }
 ],
 "metadata": {
  "kernelspec": {
   "display_name": ".venv",
   "language": "python",
   "name": "python3"
  },
  "language_info": {
   "codemirror_mode": {
    "name": "ipython",
    "version": 3
   },
   "file_extension": ".py",
   "mimetype": "text/x-python",
   "name": "python",
   "nbconvert_exporter": "python",
   "pygments_lexer": "ipython3",
   "version": "3.11.6"
  }
 },
 "nbformat": 4,
 "nbformat_minor": 2
}
