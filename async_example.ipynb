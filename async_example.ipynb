{
 "cells": [
  {
   "cell_type": "code",
   "execution_count": 2,
   "metadata": {},
   "outputs": [],
   "source": [
    "import uuid\n",
    "import asyncio\n",
    "import asynctnt\n"
   ]
  },
  {
   "cell_type": "code",
   "execution_count": 3,
   "metadata": {},
   "outputs": [],
   "source": [
    "PORT = 3303 # check running container"
   ]
  },
  {
   "cell_type": "code",
   "execution_count": 1,
   "metadata": {},
   "outputs": [],
   "source": [
    "async def get_conn():\n",
    "    conn = asynctnt.Connection(host=\"localhost\", port=PORT, username='admin', password='pass', reconnect_timeout=None)\n",
    "    await conn.connect()\n",
    "    return conn\n",
    "\n",
    "'''\n",
    "        :param reconnect_timeout:\n",
    "                Time in seconds to wait before automatic reconnect\n",
    "                (set to ``0`` or ``None`` to disable auto reconnect)\n",
    "'''"
   ]
  },
  {
   "cell_type": "code",
   "execution_count": 3,
   "metadata": {},
   "outputs": [
    {
     "data": {
      "text/plain": [
       "'box.space.users3:drop()'"
      ]
     },
     "execution_count": 3,
     "metadata": {},
     "output_type": "execute_result"
    }
   ],
   "source": [
    "space_name = 'users3'\n",
    "'''box.space.users3:drop()'''"
   ]
  },
  {
   "cell_type": "code",
   "execution_count": 4,
   "metadata": {},
   "outputs": [
    {
     "name": "stdout",
     "output_type": "stream",
     "text": [
      "tuple: <TarantoolTuple id=1 band_name='ABBA' year=17>\n"
     ]
    }
   ],
   "source": [
    "conn = await get_conn()\n",
    "data = await conn.select('tester2', [])\n",
    "tup = data[0]\n",
    "print('tuple:', tup)"
   ]
  },
  {
   "cell_type": "code",
   "execution_count": 13,
   "metadata": {},
   "outputs": [
    {
     "name": "stdout",
     "output_type": "stream",
     "text": [
      "ConnectionRefusedError\n"
     ]
    }
   ],
   "source": [
    "data = None\n",
    "try:\n",
    "    conn = await get_conn()\n",
    "except ConnectionRefusedError:\n",
    "    data = \"ConnectionRefusedError\"\n",
    "except Exception as exc:\n",
    "    ...\n",
    "else:\n",
    "    data = await conn.execute(\"select 1 as a, 2 as b\")\n",
    "print(data)"
   ]
  },
  {
   "cell_type": "code",
   "execution_count": 19,
   "metadata": {},
   "outputs": [
    {
     "name": "stdout",
     "output_type": "stream",
     "text": [
      "<TarantoolTuple ID=1 NAME='James Bond'>\n",
      "<TarantoolTuple ID=2 NAME='James Bond'>\n",
      "<TarantoolTuple ID=3 NAME='James Bond'>\n"
     ]
    }
   ],
   "source": [
    "'''\n",
    "box.execute([[CREATE TABLE customers (id INTEGER PRIMARY KEY AUTOINCREMENT, name text);]])\n",
    "'''\n",
    "conn = await get_conn()\n",
    "await conn.execute(\"insert into customers (name) values (?);\", ('James Bond',))\n",
    "data = await conn.execute('select * from customers')\n",
    "for row in data:\n",
    "    print(row)\n",
    "await conn.disconnect()"
   ]
  },
  {
   "cell_type": "code",
   "execution_count": 16,
   "metadata": {},
   "outputs": [
    {
     "name": "stdout",
     "output_type": "stream",
     "text": [
      "Duplicate key exists in unique index 'pk_unnamed_USERS_1' in space 'USERS'\n",
      "\n",
      "<TarantoolTuple ID=1 NAME='James Bond'>\n"
     ]
    }
   ],
   "source": [
    "async def do_sql(conn: asynctnt.Connection):\n",
    "    # in console\n",
    "    '''\n",
    "    box.execute([[ create table users (\n",
    "            id int primary key,\n",
    "            name text\n",
    "        )    ]])\n",
    "    '''\n",
    "    # No AUTOINCREMENT of id here\n",
    "    try:\n",
    "        await conn.execute(\"insert into users (id, name) values (?, ?);\", (1, 'James Bond'))\n",
    "    except asynctnt.exceptions.TarantoolDatabaseError as exc:\n",
    "        print(str(exc))\n",
    "        print()\n",
    "\n",
    "    data = await conn.execute('select * from users')\n",
    "    for row in data:\n",
    "        print(row)\n",
    "\n",
    "\n",
    "conn = await get_conn()\n",
    "await do_sql(conn)\n",
    "await conn.disconnect()"
   ]
  },
  {
   "cell_type": "code",
   "execution_count": 68,
   "metadata": {},
   "outputs": [],
   "source": [
    "    # in console\n",
    "'''  \n",
    "# -- Create a sequence --\n",
    "box.schema.sequence.create('id_seq',{min=1, start=1, if_not_exists = true})\n",
    "or\n",
    "box.schema.sequence.create('id_name',        { if_not_exists = true })\n",
    "\n",
    "# -- Create an index that uses the sequence --\n",
    "box.space.users2:create_index('primary',{ sequence = 'id_seq' })\n",
    "or\n",
    "box.space.user2:create_index('primary', {\n",
    "    parts = { 'id' },\n",
    "    sequence = 'id_seq',\n",
    "    unique = true,\n",
    "    type = 'HASH',\n",
    "    if_not_exists = true\n",
    "})\n",
    "\n",
    "\n",
    "box.schema.space.create('users2')\n",
    "----is different from: ----\n",
    "box.execute([[CREATE TABLE users3 (column1 INT PRIMARY key, column2 VARCHAR(10));]])\n",
    "box.execute([[CREATE TABLE users3 (id INT PRIMARY key, name text);]])\n",
    "---space and table doesnt work as same...\n",
    "\n",
    "box.space.user2:insert{nil, 'pen', 123}\n",
    "box.space.user2:select()\n",
    "---works for the space which is created by (box.schema.space.create('users2'))\n",
    "'''\n"
   ]
  },
  {
   "cell_type": "code",
   "execution_count": 17,
   "metadata": {},
   "outputs": [
    {
     "name": "stdout",
     "output_type": "stream",
     "text": [
      "<Response sync=4 rowcount=0 data=[]>\n"
     ]
    }
   ],
   "source": [
    "conn = await get_conn()\n",
    "# data = await conn.execute('select * from goods')\n",
    "# print(data)\n",
    "await conn.disconnect()"
   ]
  },
  {
   "cell_type": "code",
   "execution_count": 13,
   "metadata": {},
   "outputs": [
    {
     "name": "stdout",
     "output_type": "stream",
     "text": [
      "<Response sync=6 rowcount=3 data=[<TarantoolTuple ID=1 NAME='James Bond'>, <TarantoolTuple ID=2 NAME='James Bond'>, <TarantoolTuple ID=3 NAME='James Bond'>]>\n"
     ]
    }
   ],
   "source": [
    "table_name = 'users5'\n",
    "'''in console\n",
    "box.execute([[CREATE TABLE users5 (id INTEGER PRIMARY KEY AUTOINCREMENT, name text);]])\n",
    "'''\n",
    "conn = await get_conn()\n",
    "await conn.execute(\"insert into users5 (name) values (?);\", ('James Bond',))\n",
    "\n",
    "data = await conn.execute(f'select * from {table_name}')\n",
    "print(data)\n",
    "await conn.disconnect()"
   ]
  },
  {
   "cell_type": "code",
   "execution_count": null,
   "metadata": {},
   "outputs": [],
   "source": [
    "'''\n",
    "box.execute([[CREATE TABLE TESTER4 (id INTEGER PRIMARY KEY AUTOINCREMENT, name text);]])\n",
    "box.space.TESTER4:insert{2, \"w\"}\n",
    "box.space.TESTER4:select()\n",
    "\n",
    "'''"
   ]
  },
  {
   "cell_type": "code",
   "execution_count": 13,
   "metadata": {},
   "outputs": [],
   "source": [
    "conn = await get_conn()\n",
    "# await conn.execute(\"insert into TESTER4 (name) values (?);\", ('James Bond3',))\n",
    "data = await conn.execute('select * from SEQSCAN  APP order by YEAR desc limit 30;')\n",
    "for row in data:\n",
    "    print(row)\n",
    "await conn.disconnect()"
   ]
  },
  {
   "cell_type": "code",
   "execution_count": null,
   "metadata": {},
   "outputs": [],
   "source": []
  },
  {
   "cell_type": "code",
   "execution_count": null,
   "metadata": {},
   "outputs": [],
   "source": [
    "# TODO (not checked)\n",
    "# box.schema.sequence.create('id_seq',{min=1, start=1, if_not_exists = true})\n",
    "# box.schema.space.create('user4', {\n",
    "#     format = {\n",
    "#         {name = 'id', type = 'unsigned' },\n",
    "#         {name = 'name', type = 'string' },\n",
    "#         {name = 'code', type = 'unsigned'},\n",
    "#     },\n",
    "#     if_not_exists = true\n",
    "# })\n",
    "\n",
    "# box.schema.sequence.create('user4_id',  { if_not_exists = true })\n",
    "# box.space.users4:create_index('primary',{ parts = { 'id' },\n",
    "#         sequence = 'user4_id',\n",
    "#         unique = true,\n",
    "#         type = 'HASH',\n",
    "#         if_not_exists = true})"
   ]
  }
 ],
 "metadata": {
  "kernelspec": {
   "display_name": ".venv",
   "language": "python",
   "name": "python3"
  },
  "language_info": {
   "codemirror_mode": {
    "name": "ipython",
    "version": 3
   },
   "file_extension": ".py",
   "mimetype": "text/x-python",
   "name": "python",
   "nbconvert_exporter": "python",
   "pygments_lexer": "ipython3",
   "version": "3.11.6"
  }
 },
 "nbformat": 4,
 "nbformat_minor": 2
}
